{
 "cells": [
  {
   "cell_type": "markdown",
   "id": "89c0c913",
   "metadata": {},
   "source": [
    "### 다항선형회귀 [`sklearn.preprocessing`](https://scikit-learn.org/stable/modules/classes.html#module-sklearn.preprocessing \"sklearn.preprocessing\").PolynomialFeatures[¶](https://scikit-learn.org/stable/modules/generated/sklearn.preprocessing.PolynomialFeatures.html#sklearn-preprocessing-polynomialfeatures \"Permalink to this heading\")\n",
    "* class sklearn.preprocessing.PolynomialFeatures(degree=2, *, interaction_only=False, include_bias=True, order='C')[source]¶"
   ]
  },
  {
   "cell_type": "code",
   "execution_count": 1,
   "id": "95b6e3f8",
   "metadata": {
    "ExecuteTime": {
     "end_time": "2023-02-03T07:30:15.721106Z",
     "start_time": "2023-02-03T07:30:15.701332Z"
    }
   },
   "outputs": [
    {
     "name": "stdout",
     "output_type": "stream",
     "text": [
      "일차 단항식 계수 feature:\n",
      " [[0 1]\n",
      " [2 3]]\n"
     ]
    }
   ],
   "source": [
    "from sklearn.preprocessing import PolynomialFeatures\n",
    "import numpy as np \n",
    "\n",
    "# 다항식으로 변환한 단항식 생성, [[0,1],[2,3]]의 2*2행렬 생성\n",
    "X = np.arange(4).reshape(2,2)\n",
    "print('일차 단항식 계수 feature:\\n', X)"
   ]
  },
  {
   "cell_type": "code",
   "execution_count": 2,
   "id": "bd29d1ee",
   "metadata": {
    "ExecuteTime": {
     "end_time": "2023-02-03T07:32:10.746784Z",
     "start_time": "2023-02-03T07:32:10.734798Z"
    }
   },
   "outputs": [
    {
     "name": "stdout",
     "output_type": "stream",
     "text": [
      "변환된 2차 다항식 계수 feature:\n",
      " [[1. 0. 1. 0. 0. 1.]\n",
      " [1. 2. 3. 4. 6. 9.]]\n"
     ]
    }
   ],
   "source": [
    "# degree=2 인 2차 다항식으로 변환 위해 PolynomialFeatures를 이용\n",
    "poly = PolynomialFeatures(degree=2)\n",
    "poly.fit(X)\n",
    "poly_ftr = poly.transform(X)\n",
    "print('변환된 2차 다항식 계수 feature:\\n', poly_ftr)"
   ]
  },
  {
   "cell_type": "code",
   "execution_count": 3,
   "id": "ba529e69",
   "metadata": {
    "ExecuteTime": {
     "end_time": "2023-02-03T07:36:31.413497Z",
     "start_time": "2023-02-03T07:36:31.393719Z"
    }
   },
   "outputs": [
    {
     "name": "stdout",
     "output_type": "stream",
     "text": [
      "일차 다항식 계수 :  [[0 1 2]\n",
      " [3 4 5]]\n",
      "변경된 2차 다항식 계수 :  [[ 1.  0.  1.  2.  0.  0.  0.  1.  2.  4.]\n",
      " [ 1.  3.  4.  5.  9. 12. 15. 16. 20. 25.]]\n",
      "3차 다항식 계수 :  [[  1.   0.   1.   2.   0.   0.   0.   1.   2.   4.   0.   0.   0.   0.\n",
      "    0.   0.   1.   2.   4.   8.]\n",
      " [  1.   3.   4.   5.   9.  12.  15.  16.  20.  25.  27.  36.  45.  48.\n",
      "   60.  75.  64.  80. 100. 125.]]\n"
     ]
    }
   ],
   "source": [
    "from sklearn.preprocessing import PolynomialFeatures\n",
    "import numpy as np\n",
    "\n",
    "X = np.arange(6).reshape(2,3)\n",
    "print(\"일차 다항식 계수 : \",X)\n",
    "\n",
    "poly = PolynomialFeatures(degree=2)\n",
    "poly_ftr = poly.fit_transform(X)\n",
    "\n",
    "print(\"변경된 2차 다항식 계수 : \",poly_ftr)\n",
    "\n",
    "poly_3 = PolynomialFeatures(degree=3)\n",
    "poly_3_ftr = poly_3.fit_transform(X)\n",
    "print(\"3차 다항식 계수 : \", poly_3_ftr)"
   ]
  },
  {
   "cell_type": "code",
   "execution_count": null,
   "id": "e5ade241",
   "metadata": {},
   "outputs": [],
   "source": [
    "#파이프라인 이용\n",
    "def polynomial_func(x):\n",
    "    y = 1 + 2*x + x**2 + x**3\n",
    "    return y\n",
    "\n",
    "model = Pipeline([('poly', PolynomialFeatures(degree=3)),\n",
    "                  ('linear', LinearRegression())])\n",
    "\n",
    "x = np.arange(4).reshape(2,2)\n",
    "y = polynomial_func(x)\n",
    "\n",
    "model = model.fit(x,y)\n",
    "print('Polynomial 회귀계수\\n')"
   ]
  }
 ],
 "metadata": {
  "kernelspec": {
   "display_name": "Python 3 (ipykernel)",
   "language": "python",
   "name": "python3"
  },
  "language_info": {
   "codemirror_mode": {
    "name": "ipython",
    "version": 3
   },
   "file_extension": ".py",
   "mimetype": "text/x-python",
   "name": "python",
   "nbconvert_exporter": "python",
   "pygments_lexer": "ipython3",
   "version": "3.8.6"
  },
  "toc": {
   "base_numbering": 1,
   "nav_menu": {},
   "number_sections": true,
   "sideBar": true,
   "skip_h1_title": false,
   "title_cell": "Table of Contents",
   "title_sidebar": "Contents",
   "toc_cell": false,
   "toc_position": {},
   "toc_section_display": true,
   "toc_window_display": false
  },
  "varInspector": {
   "cols": {
    "lenName": 16,
    "lenType": 16,
    "lenVar": 40
   },
   "kernels_config": {
    "python": {
     "delete_cmd_postfix": "",
     "delete_cmd_prefix": "del ",
     "library": "var_list.py",
     "varRefreshCmd": "print(var_dic_list())"
    },
    "r": {
     "delete_cmd_postfix": ") ",
     "delete_cmd_prefix": "rm(",
     "library": "var_list.r",
     "varRefreshCmd": "cat(var_dic_list()) "
    }
   },
   "types_to_exclude": [
    "module",
    "function",
    "builtin_function_or_method",
    "instance",
    "_Feature"
   ],
   "window_display": false
  }
 },
 "nbformat": 4,
 "nbformat_minor": 5
}
