{
 "cells": [
  {
   "cell_type": "markdown",
   "id": "3358e196",
   "metadata": {},
   "source": [
    "### sklearn.tree.DecisionTreeClassifier\n",
    "* class sklearn.tree.DecisionTreeClassifier(*, criterion='gini', splitter='best', max_depth=None, min_samples_split=2, min_samples_leaf=1, min_weight_fraction_leaf=0.0, max_features=None, random_state=None, max_leaf_nodes=None, min_impurity_decrease=0.0, class_weight=None, ccp_alpha=0.0)[source]\n",
    "* Attributes:\n",
    "    classes_ndarray of shape (n_classes,) or list of ndarray\n",
    "    The classes labels (single output problem), or a list of arrays of class labels (multi-output problem).\n",
    "\n",
    "    feature_importances_ndarray of shape (n_features,)\n",
    "    Return the feature importances."
   ]
  },
  {
   "cell_type": "code",
   "execution_count": 7,
   "id": "2495423f",
   "metadata": {
    "ExecuteTime": {
     "end_time": "2023-02-01T05:03:07.982542Z",
     "start_time": "2023-02-01T05:03:07.958743Z"
    }
   },
   "outputs": [
    {
     "data": {
      "text/plain": [
       "0.9333333333333333"
      ]
     },
     "execution_count": 7,
     "metadata": {},
     "output_type": "execute_result"
    }
   ],
   "source": [
    "from sklearn.datasets import load_iris\n",
    "from sklearn.tree import DecisionTreeClassifier\n",
    "from sklearn.model_selection import train_test_split\n",
    "from sklearn.metrics import accuracy_score\n",
    "\n",
    "\n",
    "iris = load_iris()\n",
    "dt_clf = DecisionTreeClassifier(random_state=156)\n",
    "feature = iris.data\n",
    "label = iris.target\n",
    "\n",
    "x_train, x_test, y_train, y_test = train_test_split(feature,label,test_size=0.2,random_state=15)\n",
    "dt_clf.fit(x_train,y_train)\n",
    "dt_pred = dt_clf.predict(x_test)\n",
    "\n",
    "accuracy = accuracy_score(y_test,dt_pred)\n",
    "accuracy"
   ]
  },
  {
   "cell_type": "code",
   "execution_count": 8,
   "id": "851678bd",
   "metadata": {
    "ExecuteTime": {
     "end_time": "2023-02-01T05:03:09.988756Z",
     "start_time": "2023-02-01T05:03:09.981444Z"
    }
   },
   "outputs": [
    {
     "data": {
      "text/plain": [
       "array([0.02432118, 0.01251826, 0.56069779, 0.40246277])"
      ]
     },
     "execution_count": 8,
     "metadata": {},
     "output_type": "execute_result"
    }
   ],
   "source": [
    "dt_clf.feature_importances_"
   ]
  },
  {
   "cell_type": "markdown",
   "id": "584b4bfd",
   "metadata": {},
   "source": [
    "### sklearn.tree.export_graphviz¶\n",
    "* sklearn.tree.export_graphviz(decision_tree, out_file=None, *, max_depth=None, feature_names=None, class_names=None, label='all', filled=False, leaves_parallel=False, impurity=True, node_ids=False, proportion=False, rotate=False, rounded=False, special_characters=False, precision=3, fontname='helvetica')[source]¶"
   ]
  },
  {
   "cell_type": "code",
   "execution_count": 12,
   "id": "d5939c0a",
   "metadata": {
    "ExecuteTime": {
     "end_time": "2023-02-01T05:07:59.102023Z",
     "start_time": "2023-02-01T05:07:59.086315Z"
    }
   },
   "outputs": [],
   "source": [
    "from sklearn.tree import export_graphviz\n",
    "\n",
    "# export_graphviz()의 호출 결과로 out_file로 지정된 tree.dot파일을 생성함\n",
    "export_graphviz(dt_clf, out_file=\"tree.dot\", class_names=iris.target_names , feature_names=iris.feature_names, impurity=True, filled=True)"
   ]
  },
  {
   "cell_type": "code",
   "execution_count": 13,
   "id": "588fa431",
   "metadata": {
    "ExecuteTime": {
     "end_time": "2023-02-01T05:10:37.351094Z",
     "start_time": "2023-02-01T05:10:37.345439Z"
    }
   },
   "outputs": [],
   "source": [
    "# dot -Tpng tree.dot > decision_tree.png ->터미널에 입력"
   ]
  },
  {
   "cell_type": "code",
   "execution_count": 15,
   "id": "5370dec3",
   "metadata": {
    "ExecuteTime": {
     "end_time": "2023-02-01T05:21:25.242175Z",
     "start_time": "2023-02-01T05:21:25.230332Z"
    }
   },
   "outputs": [],
   "source": [
    "import graphviz\n",
    "\n",
    "# 위에서 생성된 tree.dot 파일을 Graphviz읽어서 jupyter notebook상에서 시각화 \n",
    "with open('tree.dot') as f:\n",
    "    dot_graph = f.read()\n",
    "graph = graphviz.Source(dot_graph)"
   ]
  },
  {
   "cell_type": "code",
   "execution_count": 16,
   "id": "c38bcb4f",
   "metadata": {
    "ExecuteTime": {
     "end_time": "2023-02-01T05:22:20.959261Z",
     "start_time": "2023-02-01T05:22:20.748013Z"
    }
   },
   "outputs": [
    {
     "data": {
      "text/plain": [
       "'의사결정나무.png'"
      ]
     },
     "execution_count": 16,
     "metadata": {},
     "output_type": "execute_result"
    }
   ],
   "source": [
    "# 현재 폴더에 저장.\n",
    "graph.render(filename='의사결정나무', directory='./', format='png')"
   ]
  },
  {
   "cell_type": "code",
   "execution_count": null,
   "id": "6c4b60ad",
   "metadata": {},
   "outputs": [],
   "source": []
  }
 ],
 "metadata": {
  "kernelspec": {
   "display_name": "Python 3 (ipykernel)",
   "language": "python",
   "name": "python3"
  },
  "language_info": {
   "codemirror_mode": {
    "name": "ipython",
    "version": 3
   },
   "file_extension": ".py",
   "mimetype": "text/x-python",
   "name": "python",
   "nbconvert_exporter": "python",
   "pygments_lexer": "ipython3",
   "version": "3.8.6"
  },
  "toc": {
   "base_numbering": 1,
   "nav_menu": {},
   "number_sections": true,
   "sideBar": true,
   "skip_h1_title": false,
   "title_cell": "Table of Contents",
   "title_sidebar": "Contents",
   "toc_cell": false,
   "toc_position": {},
   "toc_section_display": true,
   "toc_window_display": false
  },
  "varInspector": {
   "cols": {
    "lenName": 16,
    "lenType": 16,
    "lenVar": 40
   },
   "kernels_config": {
    "python": {
     "delete_cmd_postfix": "",
     "delete_cmd_prefix": "del ",
     "library": "var_list.py",
     "varRefreshCmd": "print(var_dic_list())"
    },
    "r": {
     "delete_cmd_postfix": ") ",
     "delete_cmd_prefix": "rm(",
     "library": "var_list.r",
     "varRefreshCmd": "cat(var_dic_list()) "
    }
   },
   "types_to_exclude": [
    "module",
    "function",
    "builtin_function_or_method",
    "instance",
    "_Feature"
   ],
   "window_display": false
  }
 },
 "nbformat": 4,
 "nbformat_minor": 5
}
